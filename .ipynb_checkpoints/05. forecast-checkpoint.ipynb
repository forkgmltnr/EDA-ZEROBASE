{
 "cells": [
  {
   "cell_type": "markdown",
   "id": "06de37bf",
   "metadata": {},
   "source": [
    "# 05 forecast(시계열 분석)\n",
    "\n",
    "1. 배경 및 설치\n"
   ]
  },
  {
   "cell_type": "markdown",
   "id": "a1c98ec5",
   "metadata": {},
   "source": [
    "1. Visual C++ Bulid Tool\n",
    "    - https://go.microsoft.com/fwlink/?LinkId=691126\n",
    "2. conda install pandas-datareader\n",
    "3. conda install -c conda-forge fbprophet"
   ]
  },
  {
   "cell_type": "code",
   "execution_count": null,
   "id": "4477850c",
   "metadata": {},
   "outputs": [],
   "source": []
  },
  {
   "cell_type": "code",
   "execution_count": null,
   "id": "ebf90533",
   "metadata": {},
   "outputs": [],
   "source": []
  },
  {
   "cell_type": "code",
   "execution_count": null,
   "id": "bfd573c7",
   "metadata": {},
   "outputs": [],
   "source": []
  },
  {
   "cell_type": "code",
   "execution_count": null,
   "id": "e9c45dad",
   "metadata": {},
   "outputs": [],
   "source": []
  }
 ],
 "metadata": {
  "kernelspec": {
   "display_name": "Python 3 (ipykernel)",
   "language": "python",
   "name": "python3"
  },
  "language_info": {
   "codemirror_mode": {
    "name": "ipython",
    "version": 3
   },
   "file_extension": ".py",
   "mimetype": "text/x-python",
   "name": "python",
   "nbconvert_exporter": "python",
   "pygments_lexer": "ipython3",
   "version": "3.8.17"
  }
 },
 "nbformat": 4,
 "nbformat_minor": 5
}
